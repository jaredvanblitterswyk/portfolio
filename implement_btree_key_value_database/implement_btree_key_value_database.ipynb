{
 "cells": [
  {
   "cell_type": "markdown",
   "metadata": {
    "collapsed": true
   },
   "source": [
    "## Implement BTree Data Structure as a Key-Value Database\n",
    "\n",
    "In this notebook I extend the BTree class developed through the DataQuest modulues in 'Recursion and Trees' modules into a key-value data structure to serve as a database object. In order to do so, a few modifications to the baseline BTree data structure need to be made to implement the `__getitem__()` and `__setitem__()` methods so that the BTree class behaves similar to a dictionary. In addition, functionality will be added to allow range queries to be made using numeric or string keys.\n",
    "\n",
    "Once this is implemented, I will implement some simple functional and performance tests. The functional tests will be designed to ensure that the data structure is working correctly. The performance tests will access the performance of our key-value store by comparing it to Python dictionaries."
   ]
  },
  {
   "cell_type": "code",
   "execution_count": 1,
   "metadata": {},
   "outputs": [],
   "source": [
    "from btree import BTree\n",
    "\n",
    "# declare key-value data base structure extending from BTree class\n",
    "# the split threshold must be specified during initialization\n",
    "class KVStore(BTree):\n",
    "    def __init__(self, split_threshold):\n",
    "        super().__init__(split_threshold)\n",
    "    def add(self, key, value):\n",
    "        # find node in tree, if none, use default add\n",
    "        # otherwise, loop through keys in node and \n",
    "        # update value at the index corresponding to key\n",
    "        node = self._find_node(self.root, key)\n",
    "        if node is None:\n",
    "            super().add(key,value)\n",
    "        else:\n",
    "            for index, node_key in enumerate(node.keys): \n",
    "                if node_key == key:\n",
    "                    node.values[index] = value"
   ]
  },
  {
   "cell_type": "markdown",
   "metadata": {},
   "source": [
    "The BTree `add()` method allows multiple entries to be added with the same key. This is undesireable for a database structure and the above code defines a new `add()` method to overwrite this functionality. Specifically, if a key was already added, that node will be updated with the new value. Otherwise, the key-value pair will be added as usual. <br><br>\n",
    "\n",
    "Before moving on, the current implementation will be tested to ensure that new values can be added and if keys are repeated, the values get replaced."
   ]
  },
  {
   "cell_type": "code",
   "execution_count": 2,
   "metadata": {},
   "outputs": [],
   "source": [
    "# test split threshold is properly implemented\n",
    "kv = KVStore(2)\n",
    "assert kv.split_threshold == 2, \"The split threshold was not set to 2.\""
   ]
  },
  {
   "cell_type": "code",
   "execution_count": 3,
   "metadata": {},
   "outputs": [],
   "source": [
    "# test key-value pair can be added, retrieved and updated\n",
    "k, v = 2, 5\n",
    "kv.add(k,v)\n",
    "assert kv.get_value(k) == v, \"The inserted value should be {}.\".format(v)\n",
    "\n",
    "k, v2 = 2, 6\n",
    "kv.add(k,v2)\n",
    "assert kv.get_value(k) == v2, \"The updated value is {} not {}\".format(kv.get_value(k),v2)"
   ]
  },
  {
   "cell_type": "markdown",
   "metadata": {},
   "source": [
    "Now that it has been verified that objects can be added and retrieved, let's make the KVStore structure easier to use by allowing the user to use bracket syntax to add and retrieve values."
   ]
  },
  {
   "cell_type": "code",
   "execution_count": 4,
   "metadata": {},
   "outputs": [],
   "source": [
    "class KVStore(BTree):\n",
    "    def __init__(self, split_threshold):\n",
    "        super().__init__(split_threshold)\n",
    "    def add(self, key, value):\n",
    "        # find node in tree, if none, use default add\n",
    "        # otherwise, loop through keys in node and \n",
    "        # update value at the index corresponding to key\n",
    "        node = self._find_node(self.root, key)\n",
    "        if node is None:\n",
    "            super().add(key,value)\n",
    "        else:\n",
    "            for index, node_key in enumerate(node.keys): \n",
    "                if node_key == key:\n",
    "                    node.values[index] = value\n",
    "                    \n",
    "    def __getitem__(self, key):\n",
    "        return self.get_value(key)\n",
    "    \n",
    "    def __setitem__(self, key, value):\n",
    "        return self.add(key,value)"
   ]
  },
  {
   "cell_type": "markdown",
   "metadata": {},
   "source": [
    "Let's run the same tests as before to verify proper implementation of the methods:"
   ]
  },
  {
   "cell_type": "code",
   "execution_count": 5,
   "metadata": {},
   "outputs": [],
   "source": [
    "# test key-value pair can be added, retrieved and updated\n",
    "kv = KVStore(2)\n",
    "kv[2] = 5\n",
    "assert kv[2] == 5, \"The inserted value was not retreived.\"\n",
    "\n",
    "kv[2] = 6\n",
    "assert kv[2] == 6, \"The existing value for key was not updated properly.\""
   ]
  },
  {
   "cell_type": "markdown",
   "metadata": {},
   "source": [
    "Another nice feature to add is the `in` capability for dictionaries. To implement this the `__contains__()` method needs to be added to the custom class. This is already implemented in the `contains()` method in BTree, so this can be simply added as with `__setitem__()` and `__getitem__()`."
   ]
  },
  {
   "cell_type": "code",
   "execution_count": 6,
   "metadata": {},
   "outputs": [],
   "source": [
    "class KVStore(BTree):\n",
    "    def __init__(self, split_threshold):\n",
    "        super().__init__(split_threshold)\n",
    "    def add(self, key, value):\n",
    "        # find node in tree, if none, use default add\n",
    "        # otherwise, loop through keys in node and \n",
    "        # update value at the index corresponding to key\n",
    "        node = self._find_node(self.root, key)\n",
    "        if node is None:\n",
    "            super().add(key,value)\n",
    "        else:\n",
    "            for index, node_key in enumerate(node.keys): \n",
    "                if node_key == key:\n",
    "                    node.values[index] = value\n",
    "                    \n",
    "    def __getitem__(self, key):\n",
    "        return self.get_value(key)\n",
    "    \n",
    "    def __setitem__(self, key, value):\n",
    "        return self.add(key,value)\n",
    "    \n",
    "    def __contains__(self, key):\n",
    "        return self.contains(key)"
   ]
  },
  {
   "cell_type": "markdown",
   "metadata": {},
   "source": [
    "Let's test this implementation with both numeric and string keys (assuming all keys are of the same type):"
   ]
  },
  {
   "cell_type": "code",
   "execution_count": 7,
   "metadata": {},
   "outputs": [],
   "source": [
    "# test 'in' method functionality\n",
    "kv = KVStore(2)\n",
    "# add key-value pairs to structure\n",
    "for ch in 'abz':\n",
    "    kv[ch] = ch\n",
    "\n",
    "assert 'a' in kv, \"The key 'a' is not in the kv structure.\"\n",
    "\n",
    "kv = KVStore(2)\n",
    "# add key-value pairs to structure\n",
    "for n in [1,2,5,6,7]:\n",
    "    kv[n] = n\n",
    "\n",
    "assert 5 in kv, \"The key '5' is not in the kv structure.\""
   ]
  },
  {
   "cell_type": "markdown",
   "metadata": {},
   "source": [
    "So far the KV data structure has the same functionality as a dictionary, with the exception that the datastructure maintains sorted order of the keys. As a database structure it would be beneficial to implement range queries. Lets implement a range query that returns all values for keys within a specified range (range_start:range_end). Moreover, I will add a function that checks/converts the keys and ranges to numerical values to accommodate keys that are of type string."
   ]
  },
  {
   "cell_type": "code",
   "execution_count": 8,
   "metadata": {},
   "outputs": [],
   "source": [
    "class KVStore(BTree):\n",
    "    def __init__(self, split_threshold):\n",
    "        super().__init__(split_threshold)\n",
    "    def add(self, key, value):\n",
    "        # find node in tree, if none, use default add\n",
    "        # otherwise, loop through keys in node and \n",
    "        # update value at the index corresponding to key\n",
    "        node = self._find_node(self.root, key)\n",
    "        if node is None:\n",
    "            super().add(key,value)\n",
    "        else:\n",
    "            for index, node_key in enumerate(node.keys): \n",
    "                if node_key == key:\n",
    "                    node.values[index] = value\n",
    "                    \n",
    "    def __getitem__(self, key):\n",
    "        return self.get_value(key)\n",
    "    \n",
    "    def __setitem__(self, key, value):\n",
    "        return self.add(key,value)\n",
    "    \n",
    "    def __contains__(self, key):\n",
    "        return self.contains(key)\n",
    "    \n",
    "    def _range_query(self, range_start, range_end, current_node, min_key, max_key):\n",
    "        # check if values need converting to numeric dtype\n",
    "        range_start = self._convert_to_num(range_start)\n",
    "        range_end = self._convert_to_num(range_end)\n",
    "        min_key = self._convert_to_num(min_key)\n",
    "        max_key = self._convert_to_num(max_key)\n",
    "\n",
    "        # check if range start and end are in correct order\n",
    "        if range_start > range_end:\n",
    "            temp = range_start\n",
    "            range_start = range_end\n",
    "            range_end = temp\n",
    "\n",
    "        if not self._range_intersect(range_start, range_end, min_key, max_key):\n",
    "            return []\n",
    "        \n",
    "        results = []\n",
    "        for i, key in enumerate(current_node.keys):\n",
    "            key = self._convert_to_num(key)\n",
    "            if range_start <= key and key <= range_end:\n",
    "                results.append(current_node.values[i])\n",
    "\n",
    "        # search recursively until leaf node found\n",
    "        if not current_node.is_leaf():\n",
    "            for i, child in enumerate(current_node.children):\n",
    "                new_min_key = current_node.keys[i - 1] if i > 0 else min_key\n",
    "                new_max_key = current_node.keys[i] if i < len(current_node) else max_key\n",
    "                results += self._range_query(range_start, range_end, child, new_min_key, new_max_key)\n",
    "        return results\n",
    "        \n",
    "    # to make the implementation easier, reduce req'd var def to range_start and range_end \n",
    "    # auto set min and max keys to be +- inf (numeric equivalent)\n",
    "    def range_query(self, range_start, range_end):\n",
    "        return self._range_query(range_start, range_end, self.root, float('-inf'), float('inf'))\n",
    "    \n",
    "    def _range_intersect(self, range_start, range_end, node_min, node_max):\n",
    "        if not node_min is None and node_min > range_end:\n",
    "            return False\n",
    "        if not node_max is None and node_max < range_start:\n",
    "            return False\n",
    "        return True\n",
    "        \n",
    "    # check if key or range is str and convert to number\n",
    "    def _convert_to_num(self, var):\n",
    "        if type(var) == str:\n",
    "            result = 0\n",
    "            for c in var:\n",
    "                result += ord(c)\n",
    "            return result\n",
    "        else:\n",
    "            return var"
   ]
  },
  {
   "cell_type": "markdown",
   "metadata": {},
   "source": [
    "The `new_key_min` and `new_key_max` is used to keep track of the range of values that the nodes can fall within. As soon as the range of values we wish to return falls outside of this, we stop searching on that subtree. An example is shown in the figure below from the DataQuest guided project 'creating and index for csv file':\n",
    "\n",
    "** add figure once in jupyter notebook"
   ]
  },
  {
   "cell_type": "markdown",
   "metadata": {},
   "source": [
    "Now the key-value data structure has been fully implemented. It is now important to test the full implementation. To do this, I will test the KVStore class against a standard dictionary. The implementation of a key-value store that uses a dictionary as the base data structure is as follows:"
   ]
  },
  {
   "cell_type": "code",
   "execution_count": 9,
   "metadata": {},
   "outputs": [],
   "source": [
    "class DictKVStore(dict):\n",
    "    # define range query on keys in dictionary\n",
    "    def range_query(self, range_start, range_end):\n",
    "        result = []\n",
    "        range_start = self._convert_to_num(range_start)\n",
    "        range_end = self._convert_to_num(range_end)\n",
    "        for key in self.keys():\n",
    "            key_c = self._convert_to_num(key)\n",
    "            if range_start <= key_c and key_c <= range_end:\n",
    "                result.append(self[key])\n",
    "        return result\n",
    "    \n",
    "    def _convert_to_num(self, var):\n",
    "        if type(var) == str:\n",
    "            result = 0\n",
    "            for c in var:\n",
    "                result += ord(c)\n",
    "            return result\n",
    "        else:\n",
    "            return var"
   ]
  },
  {
   "cell_type": "markdown",
   "metadata": {},
   "source": [
    "Now we should be able to test that the KVStore class returns the expected range queries for the DictKVStore class."
   ]
  },
  {
   "cell_type": "code",
   "execution_count": 10,
   "metadata": {
    "scrolled": true
   },
   "outputs": [
    {
     "name": "stdout",
     "output_type": "stream",
     "text": [
      "['a', 'b']\n",
      "['a', 'b']\n",
      "['a', 'b', 'c', 'd']\n",
      "['a', 'b', 'c', 'd']\n",
      "['c', 'd', 'e']\n",
      "['c', 'd', 'e']\n",
      "['a', 'b', 'c', 'd']\n",
      "['a', 'b', 'c', 'd']\n",
      "[1, 2, 3]\n",
      "[1, 2, 3]\n",
      "[4, 5, 6]\n",
      "[4, 5, 6]\n",
      "[1, 2, 3, 4, 5, 6, 7, 8, 9]\n",
      "[1, 2, 3, 4, 5, 6, 7, 8, 9]\n",
      "[5]\n",
      "[5]\n"
     ]
    }
   ],
   "source": [
    "# define instances of DictKVStore and KVStore\n",
    "dict_kv = DictKVStore()\n",
    "my_kv = KVStore(2)\n",
    "\n",
    "# add values to the dictionary: value = key\n",
    "for i in 'abcdefghij':\n",
    "    dict_kv[i] = i\n",
    "    my_kv[i] = i\n",
    "    \n",
    "# test for different ranges - sort since order not enforced in BTree\n",
    "for range_start, range_end in [('a','b'), ('a','d'), ('c','e'), ('a','d')]:#[(1,3), (4,6), (1,10), (5,5)]:\n",
    "    dict_result = sorted(dict_kv.range_query(range_start, range_end))\n",
    "    print(dict_result)\n",
    "    my_result = sorted(my_kv.range_query(range_start, range_end))\n",
    "    print(my_result)\n",
    "    assert dict_result == my_result, 'Returned range queries are not equivalent.'\n",
    " \n",
    "# check numerical keys\n",
    "dict_kv = DictKVStore()\n",
    "my_kv = KVStore(2)\n",
    "for i in range(10):\n",
    "    dict_kv[i] = i\n",
    "    my_kv[i] = i\n",
    "    \n",
    "for range_start, range_end in [(1,3), (4,6), (1,10), (5,5)]:\n",
    "    dict_result = sorted(dict_kv.range_query(range_start, range_end))\n",
    "    print(dict_result)\n",
    "    my_result = sorted(my_kv.range_query(range_start, range_end))\n",
    "    print(my_result)\n",
    "    assert dict_result == my_result, 'Returned range queries are not equivalent.'"
   ]
  },
  {
   "cell_type": "markdown",
   "metadata": {},
   "source": [
    "Finally, let's check the performance of the BTree key-value data structure compared to the dictionary-based class. For this I will generate many entries and many query intervals. The time to retrieve the keys within the range will be compared for both data structures and the retrieval time plotted against query range length."
   ]
  },
  {
   "cell_type": "code",
   "execution_count": 11,
   "metadata": {},
   "outputs": [
    {
     "name": "stdout",
     "output_type": "stream",
     "text": [
      "First five range queries (start, end):\n",
      "31244 , 31244\n",
      "43736 , 43737\n",
      "47449 , 47451\n",
      "29828 , 29831\n",
      "29593 , 29597\n",
      "18638 , 18643\n"
     ]
    }
   ],
   "source": [
    "import timeit\n",
    "import matplotlib.pyplot as plt\n",
    "import numpy as np\n",
    "import random\n",
    "import csv\n",
    "\n",
    "# generate many entries in each data structure\n",
    "N = 50000\n",
    "\n",
    "dict_kv = DictKVStore()\n",
    "my_kv = KVStore(2)\n",
    "\n",
    "for i in range(N):\n",
    "    key = random.randint(0, N)\n",
    "    value = random.randint(0, N)\n",
    "    dict_kv[key] = value\n",
    "    my_kv[key] = value\n",
    "\n",
    "# define arrays to keep runtime for range queries in each structure\n",
    "runtime_ratios = []\n",
    "\n",
    "count = 0\n",
    "print('First five range queries (start, end):')\n",
    "with open('queries.csv', 'r') as f:\n",
    "    rows = list(csv.reader(f))[1:]\n",
    "    for row in rows:\n",
    "        range_start = int(row[0])\n",
    "        range_end = int(row[1])\n",
    "        if count <= 5:\n",
    "            print(range_start,',', range_end)\n",
    "        \n",
    "        # query dictionary structure - record execution time\n",
    "        start = timeit.default_timer()\n",
    "        query_dict = dict_kv.range_query(range_start, range_end)\n",
    "        end = timeit.default_timer()\n",
    "        runtime_dict = end-start\n",
    "\n",
    "        # repeat for KV BTree data structure\n",
    "        start = timeit.default_timer()\n",
    "        query_kv = my_kv.range_query(range_start, range_end)\n",
    "        end = timeit.default_timer()\n",
    "        runtime_kv = end-start\n",
    "\n",
    "        # compute ratio between query times on both structures\n",
    "        runtime_ratios.append(runtime_dict/runtime_kv)\n",
    "        \n",
    "        count += 1\n",
    "        "
   ]
  },
  {
   "cell_type": "code",
   "execution_count": 12,
   "metadata": {
    "scrolled": true
   },
   "outputs": [
    {
     "data": {
      "image/png": "[encoded data removed]",
      "text/plain": [
       "<Figure size 432x288 with 1 Axes>"
      ]
     },
     "metadata": {
      "needs_background": "light"
     },
     "output_type": "display_data"
    }
   ],
   "source": [
    "# plot runtime ratios verses query range\n",
    "%matplotlib inline\n",
    "plot_params = dict(linewidth = 0.5, color = '#581845', linestyle = '-')\n",
    "grid_params = dict(linewidth = 0.5, color = '#E3E3E3', linestyle = '--', alpha = 0.5)\n",
    "\n",
    "#plt.figure(figsize = (4,2))\n",
    "plt.plot(runtime_ratios)#, **plot_params)\n",
    "plt.xlabel('Query range length')\n",
    "plt.ylabel('Runtime ratio')\n",
    "plt.grid(True)#, **grid_params)\n",
    "plt.show()\n"
   ]
  },
  {
   "cell_type": "markdown",
   "metadata": {},
   "source": [
    "As we can see, when there are 50,000 entries in the dictionary, the BTree implementation offers a performance boost of approximately 100 times when the range query is small. As the query length gets longer the performance ratio approaches 1 as this becomes closer to searching all entries in the dictionary/tree."
   ]
  }
 ],
 "metadata": {
  "kernelspec": {
   "display_name": "Python 3",
   "language": "python",
   "name": "python3"
  },
  "language_info": {
   "codemirror_mode": {
    "name": "ipython",
    "version": 3
   },
   "file_extension": ".py",
   "mimetype": "text/x-python",
   "name": "python",
   "nbconvert_exporter": "python",
   "pygments_lexer": "ipython3",
   "version": "3.7.5"
  }
 },
 "nbformat": 4,
 "nbformat_minor": 1
}
